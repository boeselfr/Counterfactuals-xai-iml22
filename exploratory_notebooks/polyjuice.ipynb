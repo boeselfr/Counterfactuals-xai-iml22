{
 "cells": [
  {
   "cell_type": "markdown",
   "metadata": {},
   "source": [
    "# Polyjuice first try"
   ]
  },
  {
   "cell_type": "code",
   "execution_count": 1,
   "metadata": {},
   "outputs": [],
   "source": [
    "from transformers import AutoTokenizer, AutoModelWithLMHead\n",
    "from transformers import pipeline, AutoTokenizer, AutoModelForCausalLM\n",
    "\n",
    "model_path = \"uw-hai/polyjuice\"\n",
    "generator = pipeline(\"text-generation\",\n",
    "    model=AutoModelForCausalLM.from_pretrained(model_path),\n",
    "    tokenizer=AutoTokenizer.from_pretrained(model_path),\n",
    "    framework=\"pt\", device=-1)"
   ]
  },
  {
   "cell_type": "code",
   "execution_count": 2,
   "metadata": {
    "ExecuteTime": {
     "end_time": "2022-03-16T15:11:23.466754Z",
     "start_time": "2022-03-16T15:11:22.175359Z"
    },
    "pycharm": {
     "name": "#%%\n"
    }
   },
   "outputs": [
    {
     "name": "stderr",
     "output_type": "stream",
     "text": [
      "Reusing dataset snli (/home/steven/.cache/huggingface/datasets/snli/plain_text/1.0.0/1f60b67533b65ae0275561ff7828aad5ee4282d0e6f844fd148d05d3c6ea251b)\n"
     ]
    },
    {
     "data": {
      "application/vnd.jupyter.widget-view+json": {
       "model_id": "f99da55cb56a4873bd19e9be9ac48fca",
       "version_major": 2,
       "version_minor": 0
      },
      "text/plain": [
       "  0%|          | 0/3 [00:00<?, ?it/s]"
      ]
     },
     "metadata": {},
     "output_type": "display_data"
    },
    {
     "data": {
      "text/plain": [
       "{'premise': 'A person on a horse jumps over a broken down airplane.',\n",
       " 'hypothesis': 'A person is outdoors, on a horse.',\n",
       " 'label': 0}"
      ]
     },
     "execution_count": 2,
     "metadata": {},
     "output_type": "execute_result"
    }
   ],
   "source": [
    "from datasets import load_dataset\n",
    "dataset = load_dataset(\"snli\")\n",
    "dataset['train'][2]"
   ]
  },
  {
   "cell_type": "code",
   "execution_count": 3,
   "metadata": {
    "ExecuteTime": {
     "end_time": "2022-03-16T14:38:59.512800Z",
     "start_time": "2022-03-16T14:38:59.499326Z"
    }
   },
   "outputs": [],
   "source": [
    "original_premise = dataset['train'][2]['premise']\n",
    "hypothesis = dataset['train'][2]['hypothesis']\n",
    "original_label = dataset['train'][2]['label']"
   ]
  },
  {
   "cell_type": "code",
   "execution_count": 4,
   "metadata": {
    "ExecuteTime": {
     "end_time": "2022-03-16T16:09:01.367594Z",
     "start_time": "2022-03-16T16:09:00.919753Z"
    },
    "pycharm": {
     "name": "#%%\n"
    }
   },
   "outputs": [
    {
     "name": "stderr",
     "output_type": "stream",
     "text": [
      "Setting `pad_token_id` to `eos_token_id`:50256 for open-end generation.\n"
     ]
    },
    {
     "data": {
      "text/plain": [
       "'A person on a horse jumps over a broken down airplane. A person is outdoors, on a horse. <|perturb|> [insert] A person on a horse jumps over a broken down [BLANK]. [SEP] structure'"
      ]
     },
     "execution_count": 4,
     "metadata": {},
     "output_type": "execute_result"
    }
   ],
   "source": [
    "prompt_text = \"{} {} <|perturb|> [insert]\".format(original_premise, hypothesis)\n",
    "# prompt_text = \"A dog is embraced by the woman. <|perturb|> [negation] A dog is [BLANK] the woman.\"\n",
    "generator(prompt_text, num_beams=1, num_return_sequences=1)[0][\"generated_text\"]\n"
   ]
  },
  {
   "cell_type": "markdown",
   "metadata": {},
   "source": [
    "# Simple heuristic for blank position"
   ]
  },
  {
   "cell_type": "code",
   "execution_count": 72,
   "metadata": {
    "ExecuteTime": {
     "end_time": "2022-03-17T08:16:29.294906Z",
     "start_time": "2022-03-17T08:16:29.285292Z"
    }
   },
   "outputs": [],
   "source": [
    "import benepar, spacy\n",
    "from nltk import Tree"
   ]
  },
  {
   "cell_type": "code",
   "execution_count": 73,
   "metadata": {
    "ExecuteTime": {
     "end_time": "2022-03-17T08:16:31.184456Z",
     "start_time": "2022-03-17T08:16:30.844155Z"
    }
   },
   "outputs": [],
   "source": [
    "import en_core_web_sm\n",
    "nlp = en_core_web_sm.load()"
   ]
  },
  {
   "cell_type": "code",
   "execution_count": 74,
   "metadata": {
    "ExecuteTime": {
     "end_time": "2022-03-17T08:16:32.127885Z",
     "start_time": "2022-03-17T08:16:31.674952Z"
    }
   },
   "outputs": [
    {
     "name": "stderr",
     "output_type": "stream",
     "text": [
      "[nltk_data] Downloading package benepar_en3 to\n",
      "[nltk_data]     /Users/afra/nltk_data...\n",
      "[nltk_data]   Package benepar_en3 is already up-to-date!\n"
     ]
    },
    {
     "data": {
      "text/plain": [
       "True"
      ]
     },
     "execution_count": 74,
     "metadata": {},
     "output_type": "execute_result"
    }
   ],
   "source": [
    "import nltk\n",
    "benepar.download('benepar_en3')\n",
    "  "
   ]
  },
  {
   "cell_type": "code",
   "execution_count": 75,
   "metadata": {
    "ExecuteTime": {
     "end_time": "2022-03-17T08:16:34.164559Z",
     "start_time": "2022-03-17T08:16:34.138924Z"
    }
   },
   "outputs": [],
   "source": [
    "# nlp.add_pipe('benepar', config={'model': 'benepar_en3'})\n",
    "doc = nlp('The time for action is now. It is never too late to do something.')\n",
    "sent = list(doc.sents)[0]"
   ]
  },
  {
   "cell_type": "code",
   "execution_count": 12,
   "metadata": {
    "ExecuteTime": {
     "end_time": "2022-03-16T22:01:53.848491Z",
     "start_time": "2022-03-16T22:01:52.318820Z"
    }
   },
   "outputs": [
    {
     "name": "stdout",
     "output_type": "stream",
     "text": [
      "huggingface/tokenizers: The current process just got forked, after parallelism has already been used. Disabling parallelism to avoid deadlocks...\n",
      "To disable this warning, you can either:\n",
      "\t- Avoid using `tokenizers` before the fork if possible\n",
      "\t- Explicitly set the environment variable TOKENIZERS_PARALLELISM=(true | false)\n",
      "Collecting svgling\n",
      "  Downloading svgling-0.3.1-py3-none-any.whl (21 kB)\n",
      "Collecting svgwrite\n",
      "  Downloading svgwrite-1.4.1-py3-none-any.whl (66 kB)\n",
      "\u001B[K     |████████████████████████████████| 66 kB 2.9 MB/s eta 0:00:011\n",
      "\u001B[?25hInstalling collected packages: svgwrite, svgling\n",
      "Successfully installed svgling-0.3.1 svgwrite-1.4.1\n"
     ]
    }
   ],
   "source": [
    "!pip install svgling"
   ]
  },
  {
   "cell_type": "code",
   "execution_count": 76,
   "metadata": {
    "ExecuteTime": {
     "end_time": "2022-03-17T08:16:36.848624Z",
     "start_time": "2022-03-17T08:16:36.834914Z"
    }
   },
   "outputs": [],
   "source": [
    "from nltk import ParentedTree\n",
    "def add_indices_to_terminals(treestring):\n",
    "    tree = ParentedTree.fromstring(treestring)\n",
    "    for idx, _ in enumerate(tree.leaves()):\n",
    "        tree_location = tree.leaf_treeposition(idx)\n",
    "        non_terminal = tree[tree_location[:-1]]\n",
    "        non_terminal[0] = non_terminal[0] + \"_\" + str(idx)\n",
    "    return str(tree)"
   ]
  },
  {
   "cell_type": "code",
   "execution_count": 77,
   "metadata": {
    "ExecuteTime": {
     "end_time": "2022-03-17T08:16:38.508256Z",
     "start_time": "2022-03-17T08:16:38.493371Z"
    }
   },
   "outputs": [],
   "source": [
    "def find_constituent(node, candidate_list):\n",
    "    print(node)\n",
    "    if len(node) == 1 and type(node[0]) == str:\n",
    "        idx = int(node[0].split(\"_\")[-1])\n",
    "        return idx, idx\n",
    "    \n",
    "    first_idx = last_idx = 0\n",
    "    for i in range(len(node)):\n",
    "        idx = find_constituent(node[i], candidate_list)\n",
    "        if i == 0:\n",
    "            first_idx = idx[0]\n",
    "        else:\n",
    "            last_idx = idx[1]\n",
    "    candidate_list.append((first_idx, last_idx))\n",
    "    return first_idx, last_idx"
   ]
  },
  {
   "cell_type": "code",
   "execution_count": 78,
   "metadata": {
    "ExecuteTime": {
     "end_time": "2022-03-17T08:16:38.682088Z",
     "start_time": "2022-03-17T08:16:38.673262Z"
    }
   },
   "outputs": [],
   "source": [
    "def find_blank_index(sentence):\n",
    "    doc = nlp(sentence)\n",
    "    sent = list(doc.sents)[0]\n",
    "    tree_str = add_indices_to_terminals(sent._.parse_string)\n",
    "    tree = Tree.fromstring(tree_str)"
   ]
  },
  {
   "cell_type": "markdown",
   "metadata": {},
   "source": [
    "# Polyjuice counterfactual generation\n",
    "with random blank position"
   ]
  },
  {
   "cell_type": "code",
   "execution_count": null,
   "metadata": {
    "ExecuteTime": {
     "end_time": "2022-03-17T08:16:39.961236Z",
     "start_time": "2022-03-17T08:16:39.931635Z"
    }
   },
   "outputs": [],
   "source": [
    "from polyjuice import Polyjuice\n",
    "import random\n",
    "pj = Polyjuice(model_path=\"uw-hai/polyjuice\", is_cuda=True)"
   ]
  },
  {
   "cell_type": "code",
   "execution_count": 57,
   "metadata": {},
   "outputs": [],
   "source": [
    "def _replace_word_with_blank(sentence: str) -> str:\n",
    "    # TODO: Use constituent parsing\n",
    "    words = sentence.split()\n",
    "    words[random.randrange(len(words))] = \"[BLANK]\"\n",
    "    return \" \".join(words)\n",
    "\n",
    "def _replace_word_with_blank2(sentence: str) -> str:\n",
    "    random_blanks = pj.get_random_blanked_sentences(\n",
    "        sentence=sentence,\n",
    "        # only allow selecting from a preset range of token indexes\n",
    "        pre_selected_idxes=None,\n",
    "        # only select from a subset of dep tags\n",
    "        deps=None,\n",
    "        # blank sub-spans or just single tokens\n",
    "        is_token_only=False,\n",
    "        # maximum number of returned index tuple\n",
    "        max_blank_sent_count=3,\n",
    "        # maximum number of blanks per returned sentence\n",
    "        max_blank_block=1\n",
    "    )\n",
    "    return list(random_blanks)[0]\n",
    "\n",
    "def generate_nli_perturbations(\n",
    "    premise: str,\n",
    "    hypothesis: str,\n",
    "    n: int = 3,\n",
    "    ctrl_code=\"negation\",\n",
    ") -> \"List[str]\":\n",
    "    \"\"\"Perform a polyjuice perturbation in an attempt to generate a counterfactual.\n",
    "    \n",
    "    For our NLI task, the prompt contains both the premise and the hypothesis, but\n",
    "    we only want to perturb the hypothesis. Therefore, we generate a blank in the\n",
    "    hypothesis only.\n",
    "    \n",
    "    Strangely, pj.perturb always returns 3 results no matter what `n` I use (tested 2 and\n",
    "    10). Sometimes it returns an empty list (no results). Maybe it gives up sometimes?\n",
    "    \"\"\"\n",
    "    orig_sent = f\"{premise} {hypothesis}\"\n",
    "    blanks_hyp = [_replace_word_with_blank2(hypothesis) for _ in range(n)]\n",
    "    blanks = [f\"{premise} {hypo2}\" for hypo2 in blanks_hyp]\n",
    "    print(orig_sent, blanks)\n",
    "    results = pj.perturb(\n",
    "        orig_sent=orig_sent,\n",
    "        blanked_sent=blanks,\n",
    "        ctrl_code=ctrl_code,\n",
    "        n=n,\n",
    "    )\n",
    "    return results"
   ]
  },
  {
   "cell_type": "code",
   "execution_count": 62,
   "metadata": {
    "scrolled": true
   },
   "outputs": [
    {
     "name": "stdout",
     "output_type": "stream",
     "text": [
      "The time for action is now. It is never too late to do something ['The time for action is now. It is never too late [BLANK] do something', 'The time for action is now. It is never too late to [BLANK] something', 'The time for action is now. It is never too late to [BLANK] something', 'The time for action is now. It is never too late [BLANK] do something', 'The time for action is now. It is never too [BLANK] to do something', 'The time for action is now. It is never too late [BLANK]', 'The time for action is now. It is never too [BLANK] to do something', 'The time for action is now. It is never too late to [BLANK] do something', 'The time for action is now. It is never [BLANK] too late to do something', 'The time for action is now. It is [BLANK] too late to do something']\n"
     ]
    },
    {
     "data": {
      "text/plain": [
       "['The time for action is now. It is never too late to start to do something']"
      ]
     },
     "execution_count": 62,
     "metadata": {},
     "output_type": "execute_result"
    }
   ],
   "source": [
    "generate_nli_perturbations(\n",
    "    \"The time for action is now.\",\n",
    "    \"It is never too late to do something\",\n",
    "    ctrl_code=\"negation\",\n",
    "    n=10\n",
    ")"
   ]
  },
  {
   "cell_type": "code",
   "execution_count": 63,
   "metadata": {},
   "outputs": [
    {
     "data": {
      "text/plain": [
       "'\\nnegation\\n\\'The time for action is now. It is never too late to do anything\\',\\n \"The time for action is now. It is never too late to do what\\'s required.\",\\n \\'The time for action is now. It is never too late to do something,\\'\\n \\'The time for action is now. It is never too late to shoot\\',\\n \\'The time for action is now. It is never too late to fix\\',\\n \\'The time for action is now. It is never too late yet to do something\\'\\n \\nrestructure\\n(fails to return results. Maybe I need to insert BLANKS differently,or combine it with other control codes?)\\n\\ninsert\\n\\'The time for action is now. It is never too late to do something really good\\',\\n \\'The time for action is now. It is never too late to do something.\\'\\n \\'The time for action is now. It is never too late to do something!\\',\\n \\'The time for action is now. It is never too late to do something.\\n \\nshuffle\\n\\'The time for action is now. It is often never too late to do something\\'\\n\\'The time for action is now. It is never too late to start to do something\\'\\n'"
      ]
     },
     "execution_count": 63,
     "metadata": {},
     "output_type": "execute_result"
    }
   ],
   "source": [
    "\"\"\"\n",
    "negation\n",
    "'The time for action is now. It is never too late to do anything',\n",
    " \"The time for action is now. It is never too late to do what's required.\",\n",
    " 'The time for action is now. It is never too late to do something,'\n",
    " 'The time for action is now. It is never too late to shoot',\n",
    " 'The time for action is now. It is never too late to fix',\n",
    " 'The time for action is now. It is never too late yet to do something'\n",
    " \n",
    "restructure\n",
    "(fails to return results. Maybe I need to insert BLANKS differently,\n",
    "or combine it with other control codes? Probably explained in the paper.)\n",
    "\n",
    "insert\n",
    "'The time for action is now. It is never too late to do something really good',\n",
    " 'The time for action is now. It is never too late to do something.'\n",
    " 'The time for action is now. It is never too late to do something!',\n",
    " 'The time for action is now. It is never too late to do something.\n",
    " \n",
    "shuffle\n",
    "'The time for action is now. It is often never too late to do something'\n",
    "'The time for action is now. It is never too late to start to do something'\n",
    "\"\"\""
   ]
  },
  {
   "cell_type": "code",
   "execution_count": null,
   "metadata": {},
   "outputs": [],
   "source": []
  }
 ],
 "metadata": {
  "kernelspec": {
   "display_name": "Python 3 (ipykernel)",
   "language": "python",
   "name": "python3"
  },
  "language_info": {
   "codemirror_mode": {
    "name": "ipython",
    "version": 3
   },
   "file_extension": ".py",
   "mimetype": "text/x-python",
   "name": "python",
   "nbconvert_exporter": "python",
   "pygments_lexer": "ipython3",
   "version": "3.9.10"
  },
  "toc": {
   "base_numbering": 1,
   "nav_menu": {},
   "number_sections": true,
   "sideBar": true,
   "skip_h1_title": false,
   "title_cell": "Table of Contents",
   "title_sidebar": "Contents",
   "toc_cell": false,
   "toc_position": {},
   "toc_section_display": true,
   "toc_window_display": false
  }
 },
 "nbformat": 4,
 "nbformat_minor": 1
}